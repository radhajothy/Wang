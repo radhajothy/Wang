{
  "nbformat": 4,
  "nbformat_minor": 0,
  "metadata": {
    "colab": {
      "name": "Welcome To Colaboratory",
      "version": "0.3.2",
      "provenance": [],
      "collapsed_sections": [],
      "include_colab_link": true
    },
    "kernelspec": {
      "display_name": "Python 3",
      "name": "python3"
    }
  },
  "cells": [
    {
      "cell_type": "markdown",
      "metadata": {
        "id": "view-in-github",
        "colab_type": "text"
      },
      "source": [
        "<a href=\"https://colab.research.google.com/github/radhajothy/Wang/blob/master/knntry1.ipynb\" target=\"_parent\"><img src=\"https://colab.research.google.com/assets/colab-badge.svg\" alt=\"Open In Colab\"/></a>"
      ]
    },
    {
      "cell_type": "markdown",
      "metadata": {
        "colab_type": "text",
        "id": "5fCEDCU_qrC0"
      },
      "source": [
        "<p><img alt=\"Colaboratory logo\" height=\"45px\" src=\"https://colab.research.google.com/img/colab_favicon.ico\" align=\"left\" hspace=\"10px\" vspace=\"0px\"></p>\n",
        "\n",
        "<h1>Welcome to Colaboratory!</h1>\n",
        "\n",
        "\n",
        "Colaboratory is a free Jupyter notebook environment that requires no setup and runs entirely in the cloud.\n",
        "\n",
        "With Colaboratory you can write and execute code, save and share your analyses, and access powerful computing resources, all for free from your browser."
      ]
    },
    {
      "cell_type": "code",
      "metadata": {
        "cellView": "form",
        "colab_type": "code",
        "id": "xitplqMNk_Hc",
        "outputId": "ed4f60d2-878d-4056-c438-352dac39a112",
        "colab": {
          "height": 420
        }
      },
      "source": [
        "#@title Introducing Colaboratory\n",
        "#@markdown This 3-minute video gives an overview of the key features of Colaboratory:\n",
        "from IPython.display import YouTubeVideo\n",
        "YouTubeVideo('inN8seMm7UI', width=600, height=400)"
      ],
      "execution_count": 0,
      "outputs": [
        {
          "output_type": "execute_result",
          "data": {
            "text/html": [
              "\n",
              "        <iframe\n",
              "            width=\"600\"\n",
              "            height=\"400\"\n",
              "            src=\"https://www.youtube.com/embed/inN8seMm7UI\"\n",
              "            frameborder=\"0\"\n",
              "            allowfullscreen\n",
              "        ></iframe>\n",
              "        "
            ],
            "text/plain": [
              "<IPython.lib.display.YouTubeVideo at 0x7f956e9dda50>"
            ]
          },
          "metadata": {
            "tags": []
          },
          "execution_count": 0
        }
      ]
    },
    {
      "cell_type": "markdown",
      "metadata": {
        "colab_type": "text",
        "id": "GJBs_flRovLc"
      },
      "source": [
        "## Getting Started\n",
        "\n",
        "The document you are reading is a  [Jupyter notebook](https://jupyter.org/), hosted in Colaboratory. It is not a static page, but an interactive environment that lets you write and execute code in Python and other languages.\n",
        "\n",
        "For example, here is a **code cell** with a short Python script that computes a value, stores it in a variable, and prints the result:"
      ]
    },
    {
      "cell_type": "code",
      "metadata": {
        "colab_type": "code",
        "id": "gJr_9dXGpJ05",
        "outputId": "5626194c-e802-4293-942d-2908885c3c1f",
        "colab": {
          "height": 35
        }
      },
      "source": [
        "seconds_in_a_day = 24 * 60 * 60\n",
        "seconds_in_a_day"
      ],
      "execution_count": 0,
      "outputs": [
        {
          "output_type": "execute_result",
          "data": {
            "text/plain": [
              "86400"
            ]
          },
          "metadata": {
            "tags": []
          },
          "execution_count": 0
        }
      ]
    },
    {
      "cell_type": "markdown",
      "metadata": {
        "colab_type": "text",
        "id": "2fhs6GZ4qFMx"
      },
      "source": [
        "To execute the code in the above cell, select it with a click and then either press the ▷ button to the left of the code, or use the keyboard shortcut \"⌘/Ctrl+Enter\".\n",
        "\n",
        "All cells modify the same global state, so variables that you define by executing a cell can be used in other cells:"
      ]
    },
    {
      "cell_type": "code",
      "metadata": {
        "colab_type": "code",
        "id": "-gE-Ez1qtyIA",
        "outputId": "8d2e4259-4682-4e19-b683-7b9087f28820",
        "colab": {
          "height": 35
        }
      },
      "source": [
        "seconds_in_a_week = 7 * seconds_in_a_day\n",
        "seconds_in_a_week"
      ],
      "execution_count": 0,
      "outputs": [
        {
          "output_type": "execute_result",
          "data": {
            "text/plain": [
              "604800"
            ]
          },
          "metadata": {
            "tags": []
          },
          "execution_count": 0
        }
      ]
    },
    {
      "cell_type": "markdown",
      "metadata": {
        "colab_type": "text",
        "id": "lSrWNr3MuFUS"
      },
      "source": [
        "For more information about working with Colaboratory notebooks, see [Overview of Colaboratory](/notebooks/basic_features_overview.ipynb).\n"
      ]
    },
    {
      "cell_type": "markdown",
      "metadata": {
        "colab_type": "text",
        "id": "-Rh3-Vt9Nev9"
      },
      "source": [
        "## More Resources\n",
        "\n",
        "Learn how to make the most of Python, Jupyter, Colaboratory, and related tools with these resources:\n",
        "\n",
        "### Working with Notebooks in Colaboratory\n",
        "- [Overview of Colaboratory](/notebooks/basic_features_overview.ipynb)\n",
        "- [Guide to Markdown](/notebooks/markdown_guide.ipynb)\n",
        "- [Importing libraries and installing dependencies](/notebooks/snippets/importing_libraries.ipynb)\n",
        "- [Saving and loading notebooks in GitHub](https://colab.research.google.com/github/googlecolab/colabtools/blob/master/notebooks/colab-github-demo.ipynb)\n",
        "- [Interactive forms](/notebooks/forms.ipynb)\n",
        "- [Interactive widgets](/notebooks/widgets.ipynb)\n",
        "\n",
        "### Working with Data\n",
        "- [Loading data: Drive, Sheets, and Google Cloud Storage](/notebooks/io.ipynb) \n",
        "- [Charts: visualizing data](/notebooks/charts.ipynb)\n",
        "- [Getting started with BigQuery](/notebooks/bigquery.ipynb)\n",
        "\n",
        "### Machine Learning Crash Course\n",
        "These are a few of the notebooks from Google's online Machine Learning course. See the [full course website](https://developers.google.com/machine-learning/crash-course/) for more.\n",
        "- [Intro to Pandas](/notebooks/mlcc/intro_to_pandas.ipynb)\n",
        "- [Tensorflow concepts](/notebooks/mlcc/tensorflow_programming_concepts.ipynb)\n",
        "- [First steps with TensorFlow](/notebooks/mlcc/first_steps_with_tensor_flow.ipynb)\n",
        "- [Intro to neural nets](/notebooks/mlcc/intro_to_neural_nets.ipynb)\n",
        "- [Intro to sparse data and embeddings](/notebooks/mlcc/intro_to_sparse_data_and_embeddings.ipynb)\n",
        "\n",
        "### Using Accelerated Hardware\n",
        "- [TensorFlow with GPUs](/notebooks/gpu.ipynb)\n",
        "- [TensorFlow with TPUs](/notebooks/tpu.ipynb)"
      ]
    },
    {
      "cell_type": "markdown",
      "metadata": {
        "colab_type": "text",
        "id": "P-H6Lw1vyNNd"
      },
      "source": [
        "## Machine Learning Examples: Seedbank\n",
        "\n",
        "To see end-to-end examples of the interactive machine learning analyses that Colaboratory makes possible, check out the [Seedbank](https://research.google.com/seedbank/) project.\n",
        "\n",
        "A few featured examples:\n",
        "\n",
        "- [Neural Style Transfer](https://research.google.com/seedbank/seed/neural_style_transfer_with_tfkeras): Use deep learning to transfer style between images.\n",
        "- [EZ NSynth](https://research.google.com/seedbank/seed/ez_nsynth): Synthesize audio with WaveNet auto-encoders.\n",
        "- [Fashion MNIST with Keras and TPUs](https://research.google.com/seedbank/seed/fashion_mnist_with_keras_and_tpus): Classify fashion-related images with deep learning.\n",
        "- [DeepDream](https://research.google.com/seedbank/seed/deepdream): Produce DeepDream images from your own photos.\n",
        "- [Convolutional VAE](https://research.google.com/seedbank/seed/convolutional_vae): Create a generative model of handwritten digits."
      ]
    },
    {
      "cell_type": "code",
      "metadata": {
        "id": "u4IGfIm46YJY",
        "colab_type": "code",
        "colab": {}
      },
      "source": [
        ""
      ],
      "execution_count": 0,
      "outputs": []
    },
    {
      "cell_type": "code",
      "metadata": {
        "id": "TKkRDb8d6lhq",
        "colab_type": "code",
        "colab": {}
      },
      "source": [
        "from sklearn.neighbors import KNeighborsClassifier\n",
        "from sklearn.preprocessing import LabelEncoder\n",
        "from sklearn.model_selection import train_test_split\n",
        "from sklearn.metrics import classification_report\n",
        "from imutils import paths\n",
        "import argparse\n",
        "import cv2\n",
        "import numpy as np\n",
        "import matplotlib.pyplot as plt"
      ],
      "execution_count": 0,
      "outputs": []
    },
    {
      "cell_type": "code",
      "metadata": {
        "id": "l1jYMfa2A622",
        "colab_type": "code",
        "colab": {
          "base_uri": "https://localhost:8080/",
          "height": 136
        },
        "outputId": "90cdb58d-7fb4-4c56-c409-aa9e1e300a93"
      },
      "source": [
        "! git clone https://github.com/radhajothy/Wang.git"
      ],
      "execution_count": 2,
      "outputs": [
        {
          "output_type": "stream",
          "text": [
            "Cloning into 'Wang'...\n",
            "remote: Enumerating objects: 518, done.\u001b[K\n",
            "remote: Counting objects: 100% (518/518), done.\u001b[K\n",
            "remote: Compressing objects: 100% (515/515), done.\u001b[K\n",
            "remote: Total 518 (delta 3), reused 513 (delta 1), pack-reused 0\u001b[K\n",
            "Receiving objects: 100% (518/518), 13.37 MiB | 25.79 MiB/s, done.\n",
            "Resolving deltas: 100% (3/3), done.\n"
          ],
          "name": "stdout"
        }
      ]
    },
    {
      "cell_type": "code",
      "metadata": {
        "id": "YjGNoQmvLKBo",
        "colab_type": "code",
        "colab": {}
      },
      "source": [
        "label_name=[\"Bus\",\"Elephant\",\"Flower\",\"Dinosaurs\",\"Horse\"]"
      ],
      "execution_count": 0,
      "outputs": []
    },
    {
      "cell_type": "code",
      "metadata": {
        "id": "pB2kfraMLV3M",
        "colab_type": "code",
        "colab": {}
      },
      "source": [
        "def load():\n",
        "\t\t# initialize the list of features and labels\n",
        "\t\tdata = []\n",
        "\t\tlabels = []\n",
        "\n",
        "\t\t# loop over the input images\n",
        "\t\tfor (i, imagePath) in enumerate(imagePaths):\n",
        "\t\t\t# load the image and extract the class label assuming\n",
        "\t\t\t# that our path has the following format:\n",
        "\t\t\t# /path/to/dataset/{class}/{image}.jpg\n",
        "\t\t\timage = cv2.imread(imagePath)\n",
        "\t\t\tlabel = imagePath.split(\"/\")[-2]\n",
        "\t\t\t#label = imagePath.split(os.path.sep)[-2]\n",
        "\t\t\timage = cv2.resize(image, (32, 32),interpolation=cv2.INTER_AREA)\n",
        "\t\t\t\n",
        "\t\t\t# treat our processed image as a \"feature vector\"\n",
        "\t\t\t# by updating the data list followed by the labels\n",
        "\t\t\tdata.append(image)\n",
        "\t\t\tlabels.append(label)\n",
        "\n",
        "\t\t\t# show an update every `verbose` images\n",
        "\t\t\t#if verbose > 0 and i > 0 and (i + 1) % verbose == 0:\n",
        "\t\t\t\t#print(\"[INFO] processed {}/{}\".format(i + 1,\n",
        "\t\t\t\t\t#len(imagePaths)))\n",
        "\n",
        "\t\t# return a tuple of the data and labels\n",
        "\t\treturn (np.array(data), np.array(labels))"
      ],
      "execution_count": 0,
      "outputs": []
    },
    {
      "cell_type": "code",
      "metadata": {
        "id": "wV8ndmXmLrbF",
        "colab_type": "code",
        "colab": {
          "base_uri": "https://localhost:8080/",
          "height": 71
        },
        "outputId": "3351288f-2b89-4d19-c2b9-b9d6740197d9"
      },
      "source": [
        "# grab the list of images that we'll be describing\n",
        "print(\"[INFO] loading images...\")\n",
        "imagePaths = list(paths.list_images(\"Wang\"))\n",
        "print(imagePaths)\n",
        "\n",
        "# initialize the image preprocessor, load the dataset from disk,\n",
        "# and reshape the data matrix\n",
        "#sp = SimplePreprocessor(32, 32)\n",
        "#sdl = SimpleDatasetLoader(preprocessors=[sp])\n",
        "(data, labels) = load()\n",
        "\n",
        "data = data.reshape((data.shape[0], 3072))\n",
        "\n",
        "\n",
        "# encode the labels as integers\n",
        "le = LabelEncoder()\n",
        "labels = le.fit_transform(labels)\n",
        "\n",
        "# partition the data into training and testing splits using 75% of\n",
        "# the data for training and the remaining 25% for testing\n",
        "(trainX, testX, trainY, testY) = train_test_split(data, labels,\n",
        "\ttest_size=0.25, random_state=42)"
      ],
      "execution_count": 6,
      "outputs": [
        {
          "output_type": "stream",
          "text": [
            "[INFO] loading images...\n",
            "['Wang/Flowers/ukbench00652.jpg', 'Wang/Flowers/ukbench00675.jpg', 'Wang/Flowers/ukbench00656.jpg', 'Wang/Flowers/ukbench00616.jpg', 'Wang/Flowers/ukbench00648.jpg', 'Wang/Flowers/ukbench00626.jpg', 'Wang/Flowers/ukbench00620.jpg', 'Wang/Flowers/ukbench00698.jpg', 'Wang/Flowers/ukbench00690.jpg', 'Wang/Flowers/ukbench00644.jpg', 'Wang/Flowers/ukbench00601.jpg', 'Wang/Flowers/ukbench00638.jpg', 'Wang/Flowers/ukbench00686.jpg', 'Wang/Flowers/ukbench00663.jpg', 'Wang/Flowers/ukbench00682.jpg', 'Wang/Flowers/ukbench00676.jpg', 'Wang/Flowers/ukbench00672.jpg', 'Wang/Flowers/ukbench00624.jpg', 'Wang/Flowers/ukbench00688.jpg', 'Wang/Flowers/ukbench00658.jpg', 'Wang/Flowers/ukbench00647.jpg', 'Wang/Flowers/ukbench00619.jpg', 'Wang/Flowers/ukbench00646.jpg', 'Wang/Flowers/ukbench00615.jpg', 'Wang/Flowers/ukbench00618.jpg', 'Wang/Flowers/ukbench00643.jpg', 'Wang/Flowers/ukbench00662.jpg', 'Wang/Flowers/ukbench00665.jpg', 'Wang/Flowers/ukbench00627.jpg', 'Wang/Flowers/ukbench00692.jpg', 'Wang/Flowers/ukbench00680.jpg', 'Wang/Flowers/ukbench00625.jpg', 'Wang/Flowers/ukbench00628.jpg', 'Wang/Flowers/ukbench00684.jpg', 'Wang/Flowers/ukbench00654.jpg', 'Wang/Flowers/ukbench00670.jpg', 'Wang/Flowers/ukbench00671.jpg', 'Wang/Flowers/ukbench00678.jpg', 'Wang/Flowers/ukbench00603.jpg', 'Wang/Flowers/ukbench00641.jpg', 'Wang/Flowers/ukbench00649.jpg', 'Wang/Flowers/ukbench00683.jpg', 'Wang/Flowers/ukbench00655.jpg', 'Wang/Flowers/ukbench00661.jpg', 'Wang/Flowers/ukbench00629.jpg', 'Wang/Flowers/ukbench00610.jpg', 'Wang/Flowers/ukbench00668.jpg', 'Wang/Flowers/ukbench00677.jpg', 'Wang/Flowers/ukbench00693.jpg', 'Wang/Flowers/ukbench00636.jpg', 'Wang/Flowers/ukbench00621.jpg', 'Wang/Flowers/ukbench00681.jpg', 'Wang/Flowers/ukbench00604.jpg', 'Wang/Flowers/ukbench00669.jpg', 'Wang/Flowers/ukbench00606.jpg', 'Wang/Flowers/ukbench00650.jpg', 'Wang/Flowers/ukbench00657.jpg', 'Wang/Flowers/ukbench00679.jpg', 'Wang/Flowers/ukbench00697.jpg', 'Wang/Flowers/ukbench00640.jpg', 'Wang/Flowers/ukbench00695.jpg', 'Wang/Flowers/ukbench00659.jpg', 'Wang/Flowers/ukbench00660.jpg', 'Wang/Flowers/ukbench00689.jpg', 'Wang/Flowers/ukbench00696.jpg', 'Wang/Flowers/ukbench00673.jpg', 'Wang/Flowers/ukbench00613.jpg', 'Wang/Flowers/ukbench00685.jpg', 'Wang/Flowers/ukbench00637.jpg', 'Wang/Flowers/ukbench00623.jpg', 'Wang/Flowers/ukbench00600.jpg', 'Wang/Flowers/ukbench00631.jpg', 'Wang/Flowers/ukbench00645.jpg', 'Wang/Flowers/ukbench00622.jpg', 'Wang/Flowers/ukbench00611.jpg', 'Wang/Flowers/ukbench00666.jpg', 'Wang/Flowers/ukbench00642.jpg', 'Wang/Flowers/ukbench00699.jpg', 'Wang/Flowers/ukbench00602.jpg', 'Wang/Flowers/ukbench00634.jpg', 'Wang/Flowers/ukbench00691.jpg', 'Wang/Flowers/ukbench00651.jpg', 'Wang/Flowers/ukbench00633.jpg', 'Wang/Flowers/ukbench00667.jpg', 'Wang/Flowers/ukbench00635.jpg', 'Wang/Flowers/ukbench00694.jpg', 'Wang/Flowers/ukbench00612.jpg', 'Wang/Flowers/ukbench00617.jpg', 'Wang/Flowers/ukbench00614.jpg', 'Wang/Flowers/ukbench00653.jpg', 'Wang/Flowers/ukbench00608.jpg', 'Wang/Flowers/ukbench00605.jpg', 'Wang/Flowers/ukbench00630.jpg', 'Wang/Flowers/ukbench00609.jpg', 'Wang/Flowers/ukbench00674.jpg', 'Wang/Flowers/ukbench00687.jpg', 'Wang/Flowers/ukbench00607.jpg', 'Wang/Flowers/ukbench00632.jpg', 'Wang/Flowers/ukbench00664.jpg', 'Wang/Flowers/ukbench00639.jpg', 'Wang/Bus/ukbench00308.jpg', 'Wang/Bus/ukbench00391.jpg', 'Wang/Bus/ukbench00339.jpg', 'Wang/Bus/ukbench00355.jpg', 'Wang/Bus/ukbench00399.jpg', 'Wang/Bus/ukbench00367.jpg', 'Wang/Bus/ukbench00322.jpg', 'Wang/Bus/ukbench00328.jpg', 'Wang/Bus/ukbench00302.jpg', 'Wang/Bus/ukbench00366.jpg', 'Wang/Bus/ukbench00300.jpg', 'Wang/Bus/ukbench00331.jpg', 'Wang/Bus/ukbench00312.jpg', 'Wang/Bus/ukbench00353.jpg', 'Wang/Bus/ukbench00301.jpg', 'Wang/Bus/ukbench00310.jpg', 'Wang/Bus/ukbench00396.jpg', 'Wang/Bus/ukbench00397.jpg', 'Wang/Bus/ukbench00395.jpg', 'Wang/Bus/ukbench00329.jpg', 'Wang/Bus/ukbench00387.jpg', 'Wang/Bus/ukbench00304.jpg', 'Wang/Bus/ukbench00398.jpg', 'Wang/Bus/ukbench00392.jpg', 'Wang/Bus/ukbench00303.jpg', 'Wang/Bus/ukbench00373.jpg', 'Wang/Bus/ukbench00311.jpg', 'Wang/Bus/ukbench00334.jpg', 'Wang/Bus/ukbench00332.jpg', 'Wang/Bus/ukbench00359.jpg', 'Wang/Bus/ukbench00369.jpg', 'Wang/Bus/ukbench00378.jpg', 'Wang/Bus/ukbench00394.jpg', 'Wang/Bus/ukbench00342.jpg', 'Wang/Bus/ukbench00383.jpg', 'Wang/Bus/ukbench00385.jpg', 'Wang/Bus/ukbench00363.jpg', 'Wang/Bus/ukbench00314.jpg', 'Wang/Bus/ukbench00317.jpg', 'Wang/Bus/ukbench00345.jpg', 'Wang/Bus/ukbench00326.jpg', 'Wang/Bus/ukbench00371.jpg', 'Wang/Bus/ukbench00327.jpg', 'Wang/Bus/ukbench00356.jpg', 'Wang/Bus/ukbench00393.jpg', 'Wang/Bus/ukbench00349.jpg', 'Wang/Bus/ukbench00379.jpg', 'Wang/Bus/ukbench00320.jpg', 'Wang/Bus/ukbench00340.jpg', 'Wang/Bus/ukbench00324.jpg', 'Wang/Bus/ukbench00351.jpg', 'Wang/Bus/ukbench00348.jpg', 'Wang/Bus/ukbench00360.jpg', 'Wang/Bus/ukbench00335.jpg', 'Wang/Bus/ukbench00382.jpg', 'Wang/Bus/ukbench00337.jpg', 'Wang/Bus/ukbench00361.jpg', 'Wang/Bus/ukbench00354.jpg', 'Wang/Bus/ukbench00338.jpg', 'Wang/Bus/ukbench00374.jpg', 'Wang/Bus/ukbench00386.jpg', 'Wang/Bus/ukbench00305.jpg', 'Wang/Bus/ukbench00313.jpg', 'Wang/Bus/ukbench00390.jpg', 'Wang/Bus/ukbench00362.jpg', 'Wang/Bus/ukbench00377.jpg', 'Wang/Bus/ukbench00323.jpg', 'Wang/Bus/ukbench00358.jpg', 'Wang/Bus/ukbench00330.jpg', 'Wang/Bus/ukbench00370.jpg', 'Wang/Bus/ukbench00375.jpg', 'Wang/Bus/ukbench00357.jpg', 'Wang/Bus/ukbench00364.jpg', 'Wang/Bus/ukbench00344.jpg', 'Wang/Bus/ukbench00319.jpg', 'Wang/Bus/ukbench00381.jpg', 'Wang/Bus/ukbench00316.jpg', 'Wang/Bus/ukbench00341.jpg', 'Wang/Bus/ukbench00343.jpg', 'Wang/Bus/ukbench00321.jpg', 'Wang/Bus/ukbench00384.jpg', 'Wang/Bus/ukbench00376.jpg', 'Wang/Bus/ukbench00315.jpg', 'Wang/Bus/ukbench00309.jpg', 'Wang/Bus/ukbench00307.jpg', 'Wang/Bus/ukbench00336.jpg', 'Wang/Bus/ukbench00380.jpg', 'Wang/Bus/ukbench00306.jpg', 'Wang/Bus/ukbench00372.jpg', 'Wang/Bus/ukbench00347.jpg', 'Wang/Bus/ukbench00352.jpg', 'Wang/Bus/ukbench00365.jpg', 'Wang/Bus/ukbench00388.jpg', 'Wang/Bus/ukbench00368.jpg', 'Wang/Bus/ukbench00389.jpg', 'Wang/Bus/ukbench00318.jpg', 'Wang/Bus/ukbench00346.jpg', 'Wang/Bus/ukbench00325.jpg', 'Wang/Bus/ukbench00333.jpg', 'Wang/Bus/ukbench00350.jpg', 'Wang/Elephant/ukbench00574.jpg', 'Wang/Elephant/ukbench00544.jpg', 'Wang/Elephant/ukbench00521.jpg', 'Wang/Elephant/ukbench00503.jpg', 'Wang/Elephant/ukbench00526.jpg', 'Wang/Elephant/ukbench00516.jpg', 'Wang/Elephant/ukbench00542.jpg', 'Wang/Elephant/ukbench00576.jpg', 'Wang/Elephant/ukbench00541.jpg', 'Wang/Elephant/ukbench00580.jpg', 'Wang/Elephant/ukbench00563.jpg', 'Wang/Elephant/ukbench00528.jpg', 'Wang/Elephant/ukbench00570.jpg', 'Wang/Elephant/ukbench00553.jpg', 'Wang/Elephant/ukbench00593.jpg', 'Wang/Elephant/ukbench00534.jpg', 'Wang/Elephant/ukbench00591.jpg', 'Wang/Elephant/ukbench00520.jpg', 'Wang/Elephant/ukbench00596.jpg', 'Wang/Elephant/ukbench00514.jpg', 'Wang/Elephant/ukbench00558.jpg', 'Wang/Elephant/ukbench00579.jpg', 'Wang/Elephant/ukbench00536.jpg', 'Wang/Elephant/ukbench00506.jpg', 'Wang/Elephant/ukbench00554.jpg', 'Wang/Elephant/ukbench00575.jpg', 'Wang/Elephant/ukbench00519.jpg', 'Wang/Elephant/ukbench00566.jpg', 'Wang/Elephant/ukbench00538.jpg', 'Wang/Elephant/ukbench00531.jpg', 'Wang/Elephant/ukbench00545.jpg', 'Wang/Elephant/ukbench00550.jpg', 'Wang/Elephant/ukbench00540.jpg', 'Wang/Elephant/ukbench00564.jpg', 'Wang/Elephant/ukbench00518.jpg', 'Wang/Elephant/ukbench00572.jpg', 'Wang/Elephant/ukbench00551.jpg', 'Wang/Elephant/ukbench00577.jpg', 'Wang/Elephant/ukbench00597.jpg', 'Wang/Elephant/ukbench00568.jpg', 'Wang/Elephant/ukbench00573.jpg', 'Wang/Elephant/ukbench00515.jpg', 'Wang/Elephant/ukbench00535.jpg', 'Wang/Elephant/ukbench00562.jpg', 'Wang/Elephant/ukbench00585.jpg', 'Wang/Elephant/ukbench00578.jpg', 'Wang/Elephant/ukbench00539.jpg', 'Wang/Elephant/ukbench00555.jpg', 'Wang/Elephant/ukbench00559.jpg', 'Wang/Elephant/ukbench00509.jpg', 'Wang/Elephant/ukbench00567.jpg', 'Wang/Elephant/ukbench00586.jpg', 'Wang/Elephant/ukbench00502.jpg', 'Wang/Elephant/ukbench00513.jpg', 'Wang/Elephant/ukbench00517.jpg', 'Wang/Elephant/ukbench00523.jpg', 'Wang/Elephant/ukbench00569.jpg', 'Wang/Elephant/ukbench00582.jpg', 'Wang/Elephant/ukbench00501.jpg', 'Wang/Elephant/ukbench00583.jpg', 'Wang/Elephant/ukbench00595.jpg', 'Wang/Elephant/ukbench00565.jpg', 'Wang/Elephant/ukbench00594.jpg', 'Wang/Elephant/ukbench00584.jpg', 'Wang/Elephant/ukbench00505.jpg', 'Wang/Elephant/ukbench00529.jpg', 'Wang/Elephant/ukbench00598.jpg', 'Wang/Elephant/ukbench00589.jpg', 'Wang/Elephant/ukbench00561.jpg', 'Wang/Elephant/ukbench00530.jpg', 'Wang/Elephant/ukbench00552.jpg', 'Wang/Elephant/ukbench00543.jpg', 'Wang/Elephant/ukbench00560.jpg', 'Wang/Elephant/ukbench00524.jpg', 'Wang/Elephant/ukbench00510.jpg', 'Wang/Elephant/ukbench00508.jpg', 'Wang/Elephant/ukbench00500.jpg', 'Wang/Elephant/ukbench00581.jpg', 'Wang/Elephant/ukbench00512.jpg', 'Wang/Elephant/ukbench00546.jpg', 'Wang/Elephant/ukbench00588.jpg', 'Wang/Elephant/ukbench00547.jpg', 'Wang/Elephant/ukbench00549.jpg', 'Wang/Elephant/ukbench00571.jpg', 'Wang/Elephant/ukbench00525.jpg', 'Wang/Elephant/ukbench00599.jpg', 'Wang/Elephant/ukbench00507.jpg', 'Wang/Elephant/ukbench00587.jpg', 'Wang/Elephant/ukbench00532.jpg', 'Wang/Elephant/ukbench00537.jpg', 'Wang/Elephant/ukbench00548.jpg', 'Wang/Elephant/ukbench00557.jpg', 'Wang/Elephant/ukbench00590.jpg', 'Wang/Elephant/ukbench00522.jpg', 'Wang/Elephant/ukbench00556.jpg', 'Wang/Elephant/ukbench00527.jpg', 'Wang/Elephant/ukbench00592.jpg', 'Wang/Elephant/ukbench00511.jpg', 'Wang/Elephant/ukbench00533.jpg', 'Wang/Elephant/ukbench00504.jpg', 'Wang/Horse/ukbench00785.jpg', 'Wang/Horse/ukbench00728.jpg', 'Wang/Horse/ukbench00774.jpg', 'Wang/Horse/ukbench00705.jpg', 'Wang/Horse/ukbench00720.jpg', 'Wang/Horse/ukbench00742.jpg', 'Wang/Horse/ukbench00719.jpg', 'Wang/Horse/ukbench00781.jpg', 'Wang/Horse/ukbench00795.jpg', 'Wang/Horse/ukbench00771.jpg', 'Wang/Horse/ukbench00711.jpg', 'Wang/Horse/ukbench00760.jpg', 'Wang/Horse/ukbench00737.jpg', 'Wang/Horse/ukbench00713.jpg', 'Wang/Horse/ukbench00773.jpg', 'Wang/Horse/ukbench00792.jpg', 'Wang/Horse/ukbench00752.jpg', 'Wang/Horse/ukbench00776.jpg', 'Wang/Horse/ukbench00757.jpg', 'Wang/Horse/ukbench00798.jpg', 'Wang/Horse/ukbench00796.jpg', 'Wang/Horse/ukbench00761.jpg', 'Wang/Horse/ukbench00700.jpg', 'Wang/Horse/ukbench00777.jpg', 'Wang/Horse/ukbench00765.jpg', 'Wang/Horse/ukbench00794.jpg', 'Wang/Horse/ukbench00751.jpg', 'Wang/Horse/ukbench00767.jpg', 'Wang/Horse/ukbench00772.jpg', 'Wang/Horse/ukbench00704.jpg', 'Wang/Horse/ukbench00744.jpg', 'Wang/Horse/ukbench00729.jpg', 'Wang/Horse/ukbench00766.jpg', 'Wang/Horse/ukbench00770.jpg', 'Wang/Horse/ukbench00724.jpg', 'Wang/Horse/ukbench00707.jpg', 'Wang/Horse/ukbench00718.jpg', 'Wang/Horse/ukbench00706.jpg', 'Wang/Horse/ukbench00701.jpg', 'Wang/Horse/ukbench00754.jpg', 'Wang/Horse/ukbench00712.jpg', 'Wang/Horse/ukbench00732.jpg', 'Wang/Horse/ukbench00723.jpg', 'Wang/Horse/ukbench00741.jpg', 'Wang/Horse/ukbench00755.jpg', 'Wang/Horse/ukbench00746.jpg', 'Wang/Horse/ukbench00780.jpg', 'Wang/Horse/ukbench00702.jpg', 'Wang/Horse/ukbench00714.jpg', 'Wang/Horse/ukbench00784.jpg', 'Wang/Horse/ukbench00787.jpg', 'Wang/Horse/ukbench00769.jpg', 'Wang/Horse/ukbench00710.jpg', 'Wang/Horse/ukbench00730.jpg', 'Wang/Horse/ukbench00715.jpg', 'Wang/Horse/ukbench00768.jpg', 'Wang/Horse/ukbench00725.jpg', 'Wang/Horse/ukbench00736.jpg', 'Wang/Horse/ukbench00740.jpg', 'Wang/Horse/ukbench00738.jpg', 'Wang/Horse/ukbench00721.jpg', 'Wang/Horse/ukbench00783.jpg', 'Wang/Horse/ukbench00743.jpg', 'Wang/Horse/ukbench00762.jpg', 'Wang/Horse/ukbench00790.jpg', 'Wang/Horse/ukbench00735.jpg', 'Wang/Horse/ukbench00799.jpg', 'Wang/Horse/ukbench00759.jpg', 'Wang/Horse/ukbench00756.jpg', 'Wang/Horse/ukbench00786.jpg', 'Wang/Horse/ukbench00758.jpg', 'Wang/Horse/ukbench00731.jpg', 'Wang/Horse/ukbench00793.jpg', 'Wang/Horse/ukbench00789.jpg', 'Wang/Horse/ukbench00753.jpg', 'Wang/Horse/ukbench00779.jpg', 'Wang/Horse/ukbench00791.jpg', 'Wang/Horse/ukbench00748.jpg', 'Wang/Horse/ukbench00775.jpg', 'Wang/Horse/ukbench00734.jpg', 'Wang/Horse/ukbench00716.jpg', 'Wang/Horse/ukbench00708.jpg', 'Wang/Horse/ukbench00764.jpg', 'Wang/Horse/ukbench00797.jpg', 'Wang/Horse/ukbench00703.jpg', 'Wang/Horse/ukbench00717.jpg', 'Wang/Horse/ukbench00750.jpg', 'Wang/Horse/ukbench00763.jpg', 'Wang/Horse/ukbench00788.jpg', 'Wang/Horse/ukbench00726.jpg', 'Wang/Horse/ukbench00747.jpg', 'Wang/Horse/ukbench00749.jpg', 'Wang/Horse/ukbench00709.jpg', 'Wang/Horse/ukbench00733.jpg', 'Wang/Horse/ukbench00727.jpg', 'Wang/Horse/ukbench00778.jpg', 'Wang/Horse/ukbench00782.jpg', 'Wang/Horse/ukbench00739.jpg', 'Wang/Horse/ukbench00745.jpg', 'Wang/Horse/ukbench00722.jpg', 'Wang/Dinosaurs/ukbench00401.jpg', 'Wang/Dinosaurs/ukbench00453.jpg', 'Wang/Dinosaurs/ukbench00485.jpg', 'Wang/Dinosaurs/ukbench00462.jpg', 'Wang/Dinosaurs/ukbench00406.jpg', 'Wang/Dinosaurs/ukbench00429.jpg', 'Wang/Dinosaurs/ukbench00431.jpg', 'Wang/Dinosaurs/ukbench00483.jpg', 'Wang/Dinosaurs/ukbench00488.jpg', 'Wang/Dinosaurs/ukbench00481.jpg', 'Wang/Dinosaurs/ukbench00457.jpg', 'Wang/Dinosaurs/ukbench00475.jpg', 'Wang/Dinosaurs/ukbench00498.jpg', 'Wang/Dinosaurs/ukbench00400.jpg', 'Wang/Dinosaurs/ukbench00477.jpg', 'Wang/Dinosaurs/ukbench00487.jpg', 'Wang/Dinosaurs/ukbench00464.jpg', 'Wang/Dinosaurs/ukbench00455.jpg', 'Wang/Dinosaurs/ukbench00499.jpg', 'Wang/Dinosaurs/ukbench00403.jpg', 'Wang/Dinosaurs/ukbench00472.jpg', 'Wang/Dinosaurs/ukbench00480.jpg', 'Wang/Dinosaurs/ukbench00494.jpg', 'Wang/Dinosaurs/ukbench00473.jpg', 'Wang/Dinosaurs/ukbench00448.jpg', 'Wang/Dinosaurs/ukbench00415.jpg', 'Wang/Dinosaurs/ukbench00471.jpg', 'Wang/Dinosaurs/ukbench00444.jpg', 'Wang/Dinosaurs/ukbench00422.jpg', 'Wang/Dinosaurs/ukbench00445.jpg', 'Wang/Dinosaurs/ukbench00461.jpg', 'Wang/Dinosaurs/ukbench00489.jpg', 'Wang/Dinosaurs/ukbench00410.jpg', 'Wang/Dinosaurs/ukbench00486.jpg', 'Wang/Dinosaurs/ukbench00443.jpg', 'Wang/Dinosaurs/ukbench00414.jpg', 'Wang/Dinosaurs/ukbench00474.jpg', 'Wang/Dinosaurs/ukbench00408.jpg', 'Wang/Dinosaurs/ukbench00413.jpg', 'Wang/Dinosaurs/ukbench00441.jpg', 'Wang/Dinosaurs/ukbench00442.jpg', 'Wang/Dinosaurs/ukbench00479.jpg', 'Wang/Dinosaurs/ukbench00493.jpg', 'Wang/Dinosaurs/ukbench00446.jpg', 'Wang/Dinosaurs/ukbench00430.jpg', 'Wang/Dinosaurs/ukbench00459.jpg', 'Wang/Dinosaurs/ukbench00411.jpg', 'Wang/Dinosaurs/ukbench00456.jpg', 'Wang/Dinosaurs/ukbench00426.jpg', 'Wang/Dinosaurs/ukbench00463.jpg', 'Wang/Dinosaurs/ukbench00420.jpg', 'Wang/Dinosaurs/ukbench00492.jpg', 'Wang/Dinosaurs/ukbench00409.jpg', 'Wang/Dinosaurs/ukbench00491.jpg', 'Wang/Dinosaurs/ukbench00497.jpg', 'Wang/Dinosaurs/ukbench00452.jpg', 'Wang/Dinosaurs/ukbench00495.jpg', 'Wang/Dinosaurs/ukbench00425.jpg', 'Wang/Dinosaurs/ukbench00418.jpg', 'Wang/Dinosaurs/ukbench00419.jpg', 'Wang/Dinosaurs/ukbench00451.jpg', 'Wang/Dinosaurs/ukbench00470.jpg', 'Wang/Dinosaurs/ukbench00476.jpg', 'Wang/Dinosaurs/ukbench00405.jpg', 'Wang/Dinosaurs/ukbench00438.jpg', 'Wang/Dinosaurs/ukbench00496.jpg', 'Wang/Dinosaurs/ukbench00404.jpg', 'Wang/Dinosaurs/ukbench00449.jpg', 'Wang/Dinosaurs/ukbench00424.jpg', 'Wang/Dinosaurs/ukbench00421.jpg', 'Wang/Dinosaurs/ukbench00428.jpg', 'Wang/Dinosaurs/ukbench00447.jpg', 'Wang/Dinosaurs/ukbench00439.jpg', 'Wang/Dinosaurs/ukbench00432.jpg', 'Wang/Dinosaurs/ukbench00478.jpg', 'Wang/Dinosaurs/ukbench00440.jpg', 'Wang/Dinosaurs/ukbench00434.jpg', 'Wang/Dinosaurs/ukbench00433.jpg', 'Wang/Dinosaurs/ukbench00412.jpg', 'Wang/Dinosaurs/ukbench00437.jpg', 'Wang/Dinosaurs/ukbench00407.jpg', 'Wang/Dinosaurs/ukbench00423.jpg', 'Wang/Dinosaurs/ukbench00402.jpg', 'Wang/Dinosaurs/ukbench00416.jpg', 'Wang/Dinosaurs/ukbench00450.jpg', 'Wang/Dinosaurs/ukbench00427.jpg', 'Wang/Dinosaurs/ukbench00435.jpg', 'Wang/Dinosaurs/ukbench00469.jpg', 'Wang/Dinosaurs/ukbench00458.jpg', 'Wang/Dinosaurs/ukbench00468.jpg', 'Wang/Dinosaurs/ukbench00484.jpg', 'Wang/Dinosaurs/ukbench00482.jpg', 'Wang/Dinosaurs/ukbench00454.jpg', 'Wang/Dinosaurs/ukbench00490.jpg', 'Wang/Dinosaurs/ukbench00466.jpg', 'Wang/Dinosaurs/ukbench00417.jpg', 'Wang/Dinosaurs/ukbench00465.jpg', 'Wang/Dinosaurs/ukbench00460.jpg', 'Wang/Dinosaurs/ukbench00467.jpg', 'Wang/Dinosaurs/ukbench00436.jpg']\n"
          ],
          "name": "stdout"
        }
      ]
    },
    {
      "cell_type": "code",
      "metadata": {
        "id": "fbML5co_MEKk",
        "colab_type": "code",
        "colab": {
          "base_uri": "https://localhost:8080/",
          "height": 85
        },
        "outputId": "85c7586a-b9bf-4e9d-f5b4-9fcbc14fc4a4"
      },
      "source": [
        "# train and evaluate a k-NN classifier on the raw pixel intensities)\n",
        "print(\"[INFO] evaluating k-NN classifier...\")\n",
        "model = KNeighborsClassifier(n_neighbors=1)\n",
        "model.fit(trainX, trainY)"
      ],
      "execution_count": 7,
      "outputs": [
        {
          "output_type": "stream",
          "text": [
            "[INFO] evaluating k-NN classifier...\n"
          ],
          "name": "stdout"
        },
        {
          "output_type": "execute_result",
          "data": {
            "text/plain": [
              "KNeighborsClassifier(algorithm='auto', leaf_size=30, metric='minkowski',\n",
              "                     metric_params=None, n_jobs=None, n_neighbors=1, p=2,\n",
              "                     weights='uniform')"
            ]
          },
          "metadata": {
            "tags": []
          },
          "execution_count": 7
        }
      ]
    },
    {
      "cell_type": "code",
      "metadata": {
        "id": "ffZ5PlKYMZcw",
        "colab_type": "code",
        "colab": {
          "base_uri": "https://localhost:8080/",
          "height": 231
        },
        "outputId": "1287c0b6-4e68-4f79-d993-16a56c33b8fa"
      },
      "source": [
        "img=cv2.imread(\"Wang/Bus/ukbench00463.jpg\")\n",
        "#img2 = cv2.resize(img,(32,32),fx=0.5,fy=0.5)\n",
        "img2=cv2.resize(img, (32,32),interpolation=cv2.INTER_AREA)\n",
        "img1=img2.flatten()\n",
        "img1=img1.reshape(-1,1)\n",
        "\n",
        "#insert a new axis along the row\n",
        "b = np.expand_dims(img1, axis=0)\n",
        "res=model.predict(b)\n",
        "print(label_name[int(res)])\n",
        "\n",
        "plt.imshow(img)"
      ],
      "execution_count": 20,
      "outputs": [
        {
          "output_type": "error",
          "ename": "error",
          "evalue": "ignored",
          "traceback": [
            "\u001b[0;31m---------------------------------------------------------------------------\u001b[0m",
            "\u001b[0;31merror\u001b[0m                                     Traceback (most recent call last)",
            "\u001b[0;32m<ipython-input-20-9ba5830bc3fa>\u001b[0m in \u001b[0;36m<module>\u001b[0;34m()\u001b[0m\n\u001b[1;32m      1\u001b[0m \u001b[0mimg\u001b[0m\u001b[0;34m=\u001b[0m\u001b[0mcv2\u001b[0m\u001b[0;34m.\u001b[0m\u001b[0mimread\u001b[0m\u001b[0;34m(\u001b[0m\u001b[0;34m\"Wang/Bus/ukbench00463.jpg\"\u001b[0m\u001b[0;34m)\u001b[0m\u001b[0;34m\u001b[0m\u001b[0;34m\u001b[0m\u001b[0m\n\u001b[1;32m      2\u001b[0m \u001b[0;31m#img2 = cv2.resize(img,(32,32),fx=0.5,fy=0.5)\u001b[0m\u001b[0;34m\u001b[0m\u001b[0;34m\u001b[0m\u001b[0;34m\u001b[0m\u001b[0m\n\u001b[0;32m----> 3\u001b[0;31m \u001b[0mimg2\u001b[0m\u001b[0;34m=\u001b[0m\u001b[0mcv2\u001b[0m\u001b[0;34m.\u001b[0m\u001b[0mresize\u001b[0m\u001b[0;34m(\u001b[0m\u001b[0mimg\u001b[0m\u001b[0;34m,\u001b[0m \u001b[0;34m(\u001b[0m\u001b[0;36m32\u001b[0m\u001b[0;34m,\u001b[0m\u001b[0;36m32\u001b[0m\u001b[0;34m)\u001b[0m\u001b[0;34m,\u001b[0m\u001b[0minterpolation\u001b[0m\u001b[0;34m=\u001b[0m\u001b[0mcv2\u001b[0m\u001b[0;34m.\u001b[0m\u001b[0mINTER_AREA\u001b[0m\u001b[0;34m)\u001b[0m\u001b[0;34m\u001b[0m\u001b[0;34m\u001b[0m\u001b[0m\n\u001b[0m\u001b[1;32m      4\u001b[0m \u001b[0mimg1\u001b[0m\u001b[0;34m=\u001b[0m\u001b[0mimg2\u001b[0m\u001b[0;34m.\u001b[0m\u001b[0mflatten\u001b[0m\u001b[0;34m(\u001b[0m\u001b[0;34m)\u001b[0m\u001b[0;34m\u001b[0m\u001b[0;34m\u001b[0m\u001b[0m\n\u001b[1;32m      5\u001b[0m \u001b[0mimg1\u001b[0m\u001b[0;34m=\u001b[0m\u001b[0mimg1\u001b[0m\u001b[0;34m.\u001b[0m\u001b[0mreshape\u001b[0m\u001b[0;34m(\u001b[0m\u001b[0;34m-\u001b[0m\u001b[0;36m1\u001b[0m\u001b[0;34m,\u001b[0m\u001b[0;36m1\u001b[0m\u001b[0;34m)\u001b[0m\u001b[0;34m\u001b[0m\u001b[0;34m\u001b[0m\u001b[0m\n",
            "\u001b[0;31merror\u001b[0m: OpenCV(3.4.3) /io/opencv/modules/imgproc/src/resize.cpp:4044: error: (-215:Assertion failed) !ssize.empty() in function 'resize'\n"
          ]
        }
      ]
    }
  ]
}